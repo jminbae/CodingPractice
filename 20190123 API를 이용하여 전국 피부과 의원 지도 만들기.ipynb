{
 "cells": [
  {
   "cell_type": "code",
   "execution_count": 1,
   "metadata": {},
   "outputs": [],
   "source": [
    "import pandas as pd\n",
    "import folium\n",
    "import requests\n",
    "from bs4 import BeautifulSoup\n",
    "from urllib.request import urlopen\n",
    "import openpyxl"
   ]
  },
  {
   "cell_type": "code",
   "execution_count": 2,
   "metadata": {},
   "outputs": [
    {
     "data": {
      "text/html": [
       "<div>\n",
       "<style scoped>\n",
       "    .dataframe tbody tr th:only-of-type {\n",
       "        vertical-align: middle;\n",
       "    }\n",
       "\n",
       "    .dataframe tbody tr th {\n",
       "        vertical-align: top;\n",
       "    }\n",
       "\n",
       "    .dataframe thead th {\n",
       "        text-align: right;\n",
       "    }\n",
       "</style>\n",
       "<table border=\"1\" class=\"dataframe\">\n",
       "  <thead>\n",
       "    <tr style=\"text-align: right;\">\n",
       "      <th></th>\n",
       "      <th>lat</th>\n",
       "      <th>lon</th>\n",
       "      <th>name</th>\n",
       "    </tr>\n",
       "  </thead>\n",
       "  <tbody>\n",
       "    <tr>\n",
       "      <th>0</th>\n",
       "      <td>35.88758663796097</td>\n",
       "      <td>128.65086512206707</td>\n",
       "      <td>대구광역시동구보건소</td>\n",
       "    </tr>\n",
       "    <tr>\n",
       "      <th>0</th>\n",
       "      <td>35.8007916146</td>\n",
       "      <td>128.5326926621</td>\n",
       "      <td>수목원치과의원(7/6부재중)(정보확인요망)</td>\n",
       "    </tr>\n",
       "    <tr>\n",
       "      <th>0</th>\n",
       "      <td>35.86993902090882</td>\n",
       "      <td>128.69192818752236</td>\n",
       "      <td>(VOM)봄안과의원</td>\n",
       "    </tr>\n",
       "    <tr>\n",
       "      <th>0</th>\n",
       "      <td>35.14964277738037</td>\n",
       "      <td>126.88689410104307</td>\n",
       "      <td>(공동체의료소비자생활협동조합)비타민의원</td>\n",
       "    </tr>\n",
       "    <tr>\n",
       "      <th>0</th>\n",
       "      <td>35.09731743229667</td>\n",
       "      <td>129.01328806613628</td>\n",
       "      <td>(복지)예사랑병원</td>\n",
       "    </tr>\n",
       "  </tbody>\n",
       "</table>\n",
       "</div>"
      ],
      "text/plain": [
       "                 lat                 lon                       name\n",
       "0  35.88758663796097  128.65086512206707                대구광역시동구보건소 \n",
       "0      35.8007916146      128.5326926621   수목원치과의원(7/6부재중)(정보확인요망) \n",
       "0  35.86993902090882  128.69192818752236                 (VOM)봄안과의원\n",
       "0  35.14964277738037  126.88689410104307      (공동체의료소비자생활협동조합)비타민의원\n",
       "0  35.09731743229667  129.01328806613628                  (복지)예사랑병원"
      ]
     },
     "execution_count": 2,
     "metadata": {},
     "output_type": "execute_result"
    }
   ],
   "source": [
    "clinics = pd.DataFrame()\n",
    "\n",
    "url = \"http://apis.data.go.kr/B552657/HsptlAsembySearchService/getHsptlMdcncListInfoInqire\"\n",
    "ServiceKey = \"?ServiceKey=(서비스키)\"\n",
    "PageNo = \"&pageNo=\"\n",
    "numOfRows = \"&numOfRows=\"\n",
    "\n",
    "for a in range(1,705):\n",
    "    b = 100\n",
    "    url_query = url + ServiceKey + PageNo + str(a) + numOfRows + str(b)\n",
    "    page = urlopen(url_query)\n",
    "    soup = BeautifulSoup(page, \"html.parser\")\n",
    "    block = soup.find('items')\n",
    "    for i in range(0,b):\n",
    "        eachitem = block.find_all('item')[i]\n",
    "        name = (eachitem.find('dutyname').string if eachitem.find('dutyname') else '')\n",
    "        lat = (eachitem.find('wgs84lat').string if eachitem.find('wgs84lat') else '')\n",
    "        lon = (eachitem.find('wgs84lon').string if eachitem.find('wgs84lon') else '')\n",
    "        new = pd.DataFrame([{'name':name,'lat':lat,'lon':lon}])\n",
    "        clinics = pd.concat([clinics,new])\n",
    "       \n",
    "clinics.head()"
   ]
  },
  {
   "cell_type": "code",
   "execution_count": 3,
   "metadata": {},
   "outputs": [
    {
     "data": {
      "text/plain": [
       "(70400, 3)"
      ]
     },
     "execution_count": 3,
     "metadata": {},
     "output_type": "execute_result"
    }
   ],
   "source": [
    "clinics.shape"
   ]
  },
  {
   "cell_type": "code",
   "execution_count": 4,
   "metadata": {},
   "outputs": [
    {
     "data": {
      "text/plain": [
       "lat     object\n",
       "lon     object\n",
       "name    object\n",
       "dtype: object"
      ]
     },
     "execution_count": 4,
     "metadata": {},
     "output_type": "execute_result"
    }
   ],
   "source": [
    "clinics.dtypes"
   ]
  },
  {
   "cell_type": "code",
   "execution_count": 5,
   "metadata": {
    "scrolled": true
   },
   "outputs": [],
   "source": [
    "clinics['lat'] = pd.to_numeric(clinics['lat'], errors='coerce').fillna(0)\n",
    "clinics['lon'] = pd.to_numeric(clinics['lon'], errors='coerce').fillna(0)"
   ]
  },
  {
   "cell_type": "code",
   "execution_count": 7,
   "metadata": {},
   "outputs": [
    {
     "data": {
      "text/plain": [
       "lat     float64\n",
       "lon     float64\n",
       "name     object\n",
       "dtype: object"
      ]
     },
     "execution_count": 7,
     "metadata": {},
     "output_type": "execute_result"
    }
   ],
   "source": [
    "clinics.dtypes"
   ]
  },
  {
   "cell_type": "code",
   "execution_count": 8,
   "metadata": {},
   "outputs": [],
   "source": [
    "clinics2 = clinics.reset_index(drop=True)"
   ]
  },
  {
   "cell_type": "code",
   "execution_count": 9,
   "metadata": {},
   "outputs": [
    {
     "data": {
      "text/plain": [
       "(70373, 3)"
      ]
     },
     "execution_count": 9,
     "metadata": {},
     "output_type": "execute_result"
    }
   ],
   "source": [
    "clinics2 = clinics2.drop(clinics2[clinics2.lon < 20].index)\n",
    "clinics2.shape"
   ]
  },
  {
   "cell_type": "code",
   "execution_count": 10,
   "metadata": {},
   "outputs": [],
   "source": [
    "clinics2.to_excel('./allclinics2.xlsx')"
   ]
  },
  {
   "cell_type": "code",
   "execution_count": 11,
   "metadata": {},
   "outputs": [
    {
     "data": {
      "text/plain": [
       "(56268, 3)"
      ]
     },
     "execution_count": 11,
     "metadata": {},
     "output_type": "execute_result"
    }
   ],
   "source": [
    "clinics2 = clinics[~clinics['name'].str.contains('한방')]\n",
    "clinics2 = clinics[~clinics['name'].str.contains('한의원')]\n",
    "clinics2.shape"
   ]
  },
  {
   "cell_type": "code",
   "execution_count": 12,
   "metadata": {},
   "outputs": [
    {
     "data": {
      "text/plain": [
       "(1294, 3)"
      ]
     },
     "execution_count": 12,
     "metadata": {},
     "output_type": "execute_result"
    }
   ],
   "source": [
    "skin = clinics2[clinics2['name'].str.contains('피부')].reset_index(drop=True)\n",
    "skin.shape"
   ]
  },
  {
   "cell_type": "code",
   "execution_count": 13,
   "metadata": {},
   "outputs": [
    {
     "data": {
      "text/plain": [
       "[37.48858314909423, 127.05140422712152]"
      ]
     },
     "execution_count": 13,
     "metadata": {},
     "output_type": "execute_result"
    }
   ],
   "source": [
    "locations = skin[['lat', 'lon']]\n",
    "locationlist = locations.values.tolist()\n",
    "len(locationlist)\n",
    "locationlist[700]"
   ]
  },
  {
   "cell_type": "code",
   "execution_count": 14,
   "metadata": {},
   "outputs": [
    {
     "data": {
      "text/html": [
       "<div>\n",
       "<style scoped>\n",
       "    .dataframe tbody tr th:only-of-type {\n",
       "        vertical-align: middle;\n",
       "    }\n",
       "\n",
       "    .dataframe tbody tr th {\n",
       "        vertical-align: top;\n",
       "    }\n",
       "\n",
       "    .dataframe thead th {\n",
       "        text-align: right;\n",
       "    }\n",
       "</style>\n",
       "<table border=\"1\" class=\"dataframe\">\n",
       "  <thead>\n",
       "    <tr style=\"text-align: right;\">\n",
       "      <th></th>\n",
       "      <th>lat</th>\n",
       "      <th>lon</th>\n",
       "      <th>name</th>\n",
       "    </tr>\n",
       "  </thead>\n",
       "  <tbody>\n",
       "    <tr>\n",
       "      <th>0</th>\n",
       "      <td>35.888743</td>\n",
       "      <td>128.591848</td>\n",
       "      <td>2080연합피부과의원</td>\n",
       "    </tr>\n",
       "    <tr>\n",
       "      <th>1</th>\n",
       "      <td>36.812377</td>\n",
       "      <td>127.108192</td>\n",
       "      <td>CNP차앤박피부과의원</td>\n",
       "    </tr>\n",
       "    <tr>\n",
       "      <th>2</th>\n",
       "      <td>35.148700</td>\n",
       "      <td>126.848925</td>\n",
       "      <td>CNP차앤박피부과의원</td>\n",
       "    </tr>\n",
       "    <tr>\n",
       "      <th>3</th>\n",
       "      <td>37.446192</td>\n",
       "      <td>126.700919</td>\n",
       "      <td>CNP차앤박피부과의원</td>\n",
       "    </tr>\n",
       "    <tr>\n",
       "      <th>4</th>\n",
       "      <td>36.425952</td>\n",
       "      <td>127.387207</td>\n",
       "      <td>DS피부과의원</td>\n",
       "    </tr>\n",
       "  </tbody>\n",
       "</table>\n",
       "</div>"
      ],
      "text/plain": [
       "         lat         lon         name\n",
       "0  35.888743  128.591848  2080연합피부과의원\n",
       "1  36.812377  127.108192  CNP차앤박피부과의원\n",
       "2  35.148700  126.848925  CNP차앤박피부과의원\n",
       "3  37.446192  126.700919  CNP차앤박피부과의원\n",
       "4  36.425952  127.387207      DS피부과의원"
      ]
     },
     "execution_count": 14,
     "metadata": {},
     "output_type": "execute_result"
    }
   ],
   "source": [
    "skin.head()"
   ]
  },
  {
   "cell_type": "code",
   "execution_count": 15,
   "metadata": {},
   "outputs": [],
   "source": [
    "map = folium.Map(location=[36.536236, 127.5], zoom_start=8)\n",
    "\n",
    "folium.TileLayer('stamenterrain').add_to(map)\n",
    "folium.TileLayer('stamentoner').add_to(map)\n",
    "folium.TileLayer('cartodbpositron').add_to(map)\n",
    "folium.LayerControl().add_to(map)\n",
    "for i in range(0, len(locationlist)):\n",
    "    folium.CircleMarker(locationlist[i], radius=6,\n",
    "                        color='purple', fill=True, fill_color='white',\n",
    "                        tooltip=skin['name'][i]).add_to(map)\n",
    "    \n",
    "##for i in range(0, len(locationlist)):\n",
    "##    folium.Marker(locationlist[i], tooltip=skin['name'][i]).add_to(map)\n",
    "    \n",
    "map.save('D:\\Dropbox\\code\\map_skin.html')"
   ]
  }
 ],
 "metadata": {
  "kernelspec": {
   "display_name": "Python 3",
   "language": "python",
   "name": "python3"
  },
  "language_info": {
   "codemirror_mode": {
    "name": "ipython",
    "version": 3
   },
   "file_extension": ".py",
   "mimetype": "text/x-python",
   "name": "python",
   "nbconvert_exporter": "python",
   "pygments_lexer": "ipython3",
   "version": "3.6.8"
  }
 },
 "nbformat": 4,
 "nbformat_minor": 2
}
